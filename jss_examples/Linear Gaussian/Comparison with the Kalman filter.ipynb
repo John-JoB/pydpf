{
 "cells": [
  {
   "metadata": {},
   "cell_type": "markdown",
   "source": "# Comparison to the Kalman Filter",
   "id": "72250bd03bb405de"
  },
  {
   "metadata": {},
   "cell_type": "markdown",
   "source": [
    "Before running this notebook to run the experiments you must generate the dataset.\n",
    " \n",
    "This is done by running generate_data.py from the directory that contains both it and this notebook. Optionally the dimensionality of the state and observations can be controlled by the command line arguments --dx and --dy respectively, then running the model will require setting dx and dy in the options cell of this notebook. By default dx = 25, dy = 1 mirroring the experiment setting in the paper. The batch size can be specified by the argument --batch_size, default: 128.\n"
   ],
   "id": "8000be4068868e11"
  },
  {
   "metadata": {},
   "cell_type": "markdown",
   "source": "## Imports",
   "id": "a8b31809adc13e3b"
  },
  {
   "cell_type": "code",
   "id": "initial_id",
   "metadata": {
    "collapsed": true
   },
   "source": [
    "from tqdm import tqdm\n",
    "import torch\n",
    "import pydpf\n",
    "import lg_model\n",
    "import pathlib\n",
    "from time import time\n",
    "import pandas as pd"
   ],
   "outputs": [],
   "execution_count": null
  },
  {
   "metadata": {},
   "cell_type": "markdown",
   "source": "## Set options",
   "id": "5b50befd76e8b369"
  },
  {
   "metadata": {},
   "cell_type": "code",
   "source": [
    "dx = 25\n",
    "dy = 1\n",
    "#Set \"cuda = False\" to time the cpu execution.\n",
    "cuda = False\n",
    "data_path = pathlib.Path('.').parent.absolute().joinpath(f'data/dx={dx}-dy={dy}.csv')\n",
    "result_path = pathlib.Path('.').parent.absolute().joinpath('results/Kalman_comparison_results.csv')\n",
    "Ks = [None, 25, 100, 1000, 10000]\n",
    "batch_size = 128\n",
    "\n",
    "if cuda:\n",
    "    device = torch.device(\"cuda:0\")\n",
    "else:\n",
    "    device = torch.device(\"cpu\")\n",
    "cuda_gen = torch.Generator(device=device).manual_seed(0)\n",
    "cpu_gen = torch.Generator().manual_seed(0)"
   ],
   "id": "7c681f2f7a479bdd",
   "outputs": [],
   "execution_count": null
  },
  {
   "metadata": {},
   "cell_type": "code",
   "source": [
    "def make_bootstrap_componets(dx, dy, generator):\n",
    "    dynamic_model = lg_model.GaussianDynamic(dx, generator)\n",
    "    observation_model = lg_model.GaussianObservation(dx, dy, generator)\n",
    "    prior_model = lg_model.GaussianPrior(dx, generator)\n",
    "    return prior_model, dynamic_model, observation_model"
   ],
   "id": "aae0f5feaa2044ea",
   "outputs": [],
   "execution_count": null
  },
  {
   "metadata": {},
   "cell_type": "markdown",
   "source": "## Create Dataset",
   "id": "1d5f805c103d2f34"
  },
  {
   "metadata": {},
   "cell_type": "code",
   "source": [
    "dataset = pydpf.StateSpaceDataset(data_path=data_path,\n",
    "                                  series_id_column='series_id',\n",
    "                                  state_prefix='state',\n",
    "                                  observation_prefix='observation',\n",
    "                                  device=device)\n",
    "data_loader = torch.utils.data.DataLoader(dataset, batch_size=batch_size, shuffle=False, collate_fn=dataset.collate, generator=cpu_gen)"
   ],
   "id": "50358b9f5e2b14bd",
   "outputs": [],
   "execution_count": null
  },
  {
   "metadata": {},
   "cell_type": "markdown",
   "source": "## Define a particle filter with multinomial resampling",
   "id": "828807481537a4df"
  },
  {
   "metadata": {},
   "cell_type": "code",
   "source": [
    "prior_model, dynamic_model, observation_model = make_bootstrap_componets(dx, dy, cuda_gen)\n",
    "multinomial_resampler = pydpf.MultinomialResampler(cuda_gen)\n",
    "SSM = pydpf.FilteringModel(prior_model=prior_model, dynamic_model=dynamic_model, observation_model=observation_model)\n",
    "PF = pydpf.ParticleFilter(resampler=multinomial_resampler, SSM=SSM)\n",
    "KalmanFilter = pydpf.KalmanFilter(prior_model=prior_model, dynamic_model=dynamic_model, observation_model=observation_model)"
   ],
   "id": "6c3c7df02d78e164",
   "outputs": [],
   "execution_count": null
  },
  {
   "metadata": {},
   "cell_type": "markdown",
   "source": "## Run particle Filter",
   "id": "d67f06dee8cb438b"
  },
  {
   "metadata": {},
   "cell_type": "code",
   "source": [
    "def fractional_diff_exp(a, b):\n",
    "    frac = b-a\n",
    "    return torch.abs(1 - torch.exp(frac))\n",
    "    "
   ],
   "id": "6d9f8dc7e1c770b1",
   "outputs": [],
   "execution_count": null
  },
  {
   "metadata": {},
   "cell_type": "code",
   "source": [
    "aggregation_function_dict = {'Means': pydpf.FilteringMean(), 'Likelihood_factors': pydpf.LogLikelihoodFactors()}\n",
    "\n",
    "for K in Ks:\n",
    "    size = 0\n",
    "    state_error = []\n",
    "    kalman_time = []\n",
    "    pf_time = []\n",
    "    likelihood_error = []\n",
    "    #Time the Kalman filter without running the particle filter in the same loop as timing seems to be dependent on K.\n",
    "    for state, observation in tqdm(data_loader):\n",
    "        with torch.inference_mode():\n",
    "            size += state.size(1)\n",
    "            if cuda:\n",
    "                torch.cuda.current_stream().synchronize() \n",
    "            s_time = time()\n",
    "            kalman_state, kalman_cov, kalman_likelihood = KalmanFilter(observation=observation, time_extent=1000)\n",
    "            if cuda:\n",
    "                torch.cuda.current_stream().synchronize() \n",
    "            kalman_time.append((time() - s_time))\n",
    "            if not K is None:\n",
    "                if cuda:\n",
    "                    torch.cuda.current_stream().synchronize() \n",
    "                s_time = time()\n",
    "                outputs = PF(observation=observation, n_particles=K, aggregation_function=aggregation_function_dict, time_extent=1000)\n",
    "                if cuda:\n",
    "                    torch.cuda.current_stream().synchronize()\n",
    "                pf_time.append((time() - s_time))\n",
    "                state_sq_error = torch.sum((outputs['Means'] - kalman_state)**2, dim=-1).mean()\n",
    "                state_error.append(state_sq_error.item() * state.size(1))\n",
    "                log_abs_likelihood_error = fractional_diff_exp(kalman_likelihood, outputs['Likelihood_factors'].squeeze()).mean()\n",
    "                likelihood_error.append(log_abs_likelihood_error.item() * state.size(1))\n",
    "        \n",
    "    results_df = pd.read_csv(result_path, index_col=0)\n",
    "    if not K is None:\n",
    "        row_label = f'PF K = {K}'\n",
    "        row = list(results_df.loc[row_label])\n",
    "    kalman_row = list(results_df.loc['Kalman Filter'])\n",
    "    if cuda:\n",
    "        if K is None:\n",
    "            kalman_row[1] = sum(kalman_time[1:-1])/(len(data_loader)-2)\n",
    "            kalman_row[2] = 0.0\n",
    "            kalman_row[3] = 0.0\n",
    "        else:\n",
    "            #Ignore first iteration as CUDA is often slower on the first pass, ignore the last iteration incase it had a different size\n",
    "            row[1] = sum(pf_time[1:-1])/(len(data_loader)-2)\n",
    "            row[2] = sum(state_error)/size\n",
    "            row[3] = sum(likelihood_error)/size\n",
    "    else:\n",
    "        if K is None:\n",
    "            kalman_row[0] = sum(kalman_time[1:-1])/(len(data_loader)-2)\n",
    "        else:\n",
    "\n",
    "            row[0] = sum(pf_time[1:-1])/(len(data_loader)-2)\n",
    "    \n",
    "    if not K is None:\n",
    "        results_df.loc[row_label] = row\n",
    "    results_df.loc['Kalman Filter'] = kalman_row\n",
    "    results_df.to_csv(result_path)\n",
    "print(results_df)       "
   ],
   "id": "747165e39a2c6361",
   "outputs": [],
   "execution_count": null
  }
 ],
 "metadata": {
  "kernelspec": {
   "display_name": "Python 3",
   "language": "python",
   "name": "python3"
  },
  "language_info": {
   "codemirror_mode": {
    "name": "ipython",
    "version": 2
   },
   "file_extension": ".py",
   "mimetype": "text/x-python",
   "name": "python",
   "nbconvert_exporter": "python",
   "pygments_lexer": "ipython2",
   "version": "2.7.6"
  }
 },
 "nbformat": 4,
 "nbformat_minor": 5
}
