{
 "cells": [
  {
   "metadata": {},
   "cell_type": "markdown",
   "source": "## Imports",
   "id": "a8b31809adc13e3b"
  },
  {
   "cell_type": "code",
   "id": "initial_id",
   "metadata": {
    "collapsed": true,
    "ExecuteTime": {
     "end_time": "2025-06-13T14:33:42.159684Z",
     "start_time": "2025-06-13T14:33:42.154915Z"
    }
   },
   "source": [
    "\n",
    "from tqdm import tqdm\n",
    "import torch\n",
    "from pydpf import pydpf\n",
    "import model\n",
    "import pathlib\n",
    "from time import time\n",
    "import pandas as pd"
   ],
   "outputs": [],
   "execution_count": 8
  },
  {
   "metadata": {},
   "cell_type": "markdown",
   "source": "## Set options",
   "id": "5b50befd76e8b369"
  },
  {
   "metadata": {
    "ExecuteTime": {
     "end_time": "2025-06-13T14:33:42.187732Z",
     "start_time": "2025-06-13T14:33:42.184647Z"
    }
   },
   "cell_type": "code",
   "source": [
    "dx = 25\n",
    "dy = 1\n",
    "cuda = True\n",
    "data_path = pathlib.Path('.').parent.absolute().joinpath('data.csv')\n",
    "result_path = pathlib.Path('.').parent.absolute().joinpath('Kalman_comparison_results.csv')\n",
    "Ks = [25, 100, 1000, 10000]\n",
    "generate_data = False\n",
    "\n",
    "\n",
    "if cuda:\n",
    "    device = torch.device(\"cuda:0\")\n",
    "else:\n",
    "    device = torch.device(\"cpu\")\n",
    "cuda_gen = torch.Generator(device=device).manual_seed(0)\n",
    "cpu_gen = torch.Generator().manual_seed(0)"
   ],
   "id": "7c681f2f7a479bdd",
   "outputs": [],
   "execution_count": 9
  },
  {
   "metadata": {
    "ExecuteTime": {
     "end_time": "2025-06-13T14:33:42.687850Z",
     "start_time": "2025-06-13T14:33:42.684744Z"
    }
   },
   "cell_type": "code",
   "source": [
    "def make_bootstrap_componets(dx, dy, generator):\n",
    "    dynamic_model = model.GaussianDynamic(dx, generator)\n",
    "    observation_model = model.GaussianObservation(dx, dy, generator)\n",
    "    prior_model = model.GaussianPrior(dx, generator)\n",
    "    return prior_model, dynamic_model, observation_model"
   ],
   "id": "aae0f5feaa2044ea",
   "outputs": [],
   "execution_count": 10
  },
  {
   "metadata": {},
   "cell_type": "markdown",
   "source": "## Generate Data",
   "id": "ec8c4d490c9c709"
  },
  {
   "metadata": {},
   "cell_type": "markdown",
   "source": "## Create Dataset",
   "id": "1d5f805c103d2f34"
  },
  {
   "metadata": {
    "ExecuteTime": {
     "end_time": "2025-06-13T14:33:44.567036Z",
     "start_time": "2025-06-13T14:33:43.155664Z"
    }
   },
   "cell_type": "code",
   "source": [
    "dataset = pydpf.StateSpaceDataset(data_path=data_path,\n",
    "                                  series_id_column='series_id',\n",
    "                                  state_prefix='state',\n",
    "                                  observation_prefix='observation',\n",
    "                                  device=device)\n",
    "data_loader = torch.utils.data.DataLoader(dataset, batch_size=100, shuffle=False, collate_fn=dataset.collate, generator=cpu_gen)"
   ],
   "id": "50358b9f5e2b14bd",
   "outputs": [],
   "execution_count": 11
  },
  {
   "metadata": {},
   "cell_type": "markdown",
   "source": "## Define a particle filter with multinomial resampling",
   "id": "828807481537a4df"
  },
  {
   "metadata": {
    "ExecuteTime": {
     "end_time": "2025-06-13T14:33:45.064903Z",
     "start_time": "2025-06-13T14:33:45.059231Z"
    }
   },
   "cell_type": "code",
   "source": [
    "prior_model, dynamic_model, observation_model = make_bootstrap_componets(dx, dy, cuda_gen)\n",
    "multinomial_resampler = pydpf.MultinomialResampler(cuda_gen)\n",
    "SSM = pydpf.FilteringModel(prior_model=prior_model, dynamic_model=dynamic_model, observation_model=observation_model)\n",
    "PF = pydpf.ParticleFilter(resampler=multinomial_resampler, SSM=SSM)\n",
    "KalmanFilter = pydpf.KalmanFilter(prior_model=prior_model, dynamic_model=dynamic_model, observation_model=observation_model)"
   ],
   "id": "6c3c7df02d78e164",
   "outputs": [],
   "execution_count": 12
  },
  {
   "metadata": {},
   "cell_type": "markdown",
   "source": "## Run particle Filter",
   "id": "d67f06dee8cb438b"
  },
  {
   "metadata": {
    "ExecuteTime": {
     "end_time": "2025-06-13T14:33:45.532242Z",
     "start_time": "2025-06-13T14:33:45.529341Z"
    }
   },
   "cell_type": "code",
   "source": [
    "def fractional_diff_exp(a, b):\n",
    "    frac = b-a\n",
    "    return torch.abs(1 - torch.exp(frac))\n",
    "    "
   ],
   "id": "6d9f8dc7e1c770b1",
   "outputs": [],
   "execution_count": 13
  },
  {
   "metadata": {
    "ExecuteTime": {
     "end_time": "2025-06-13T14:38:05.773964Z",
     "start_time": "2025-06-13T14:33:46.035055Z"
    }
   },
   "cell_type": "code",
   "source": [
    "aggregation_function_dict = {'Means': pydpf.FilteringMean(), 'Likelihood_factors': pydpf.LogLikelihoodFactors()}\n",
    "\n",
    "for K in Ks:\n",
    "    size = 0\n",
    "    state_error = []\n",
    "    kalman_time = []\n",
    "    pf_time = []\n",
    "    likelihood_error = []\n",
    "    #Time the Kalman filter without running the particle filter in the same loop as timing seems to be dependent on K.\n",
    "    for state, observation in tqdm(data_loader):\n",
    "        with torch.inference_mode():\n",
    "            size += state.size(1)\n",
    "            if cuda:\n",
    "                torch.cuda.current_stream().synchronize() \n",
    "            s_time = time()\n",
    "            kalman_state, kalman_cov, kalman_likelihood = KalmanFilter(observation=observation, time_extent=1000)\n",
    "            if cuda:\n",
    "                torch.cuda.current_stream().synchronize() \n",
    "            kalman_time.append((time() - s_time))\n",
    "            if not K is None:\n",
    "                if cuda:\n",
    "                    torch.cuda.current_stream().synchronize() \n",
    "                s_time = time()\n",
    "                outputs = PF(observation=observation, n_particles=K, aggregation_function=aggregation_function_dict, time_extent=1000)\n",
    "                if cuda:\n",
    "                    torch.cuda.current_stream().synchronize()\n",
    "                pf_time.append((time() - s_time))\n",
    "                state_sq_error = torch.sum((outputs['Means'] - kalman_state)**2, dim=-1).mean()\n",
    "                state_error.append(state_sq_error.item() * state.size(1))\n",
    "                log_abs_likelihood_error = fractional_diff_exp(kalman_likelihood, outputs['Likelihood_factors'].squeeze()).mean()\n",
    "                likelihood_error.append(log_abs_likelihood_error.item() * state.size(1))\n",
    "        \n",
    "    results_df = pd.read_csv(result_path, index_col=0)\n",
    "    if not K is None:\n",
    "        row_label = f'PF K = {K}'\n",
    "        row = list(results_df.loc[row_label])\n",
    "    kalman_row = list(results_df.loc['Kalman Filter'])\n",
    "    if cuda:\n",
    "        if K is None:\n",
    "            kalman_row[1] = sum(kalman_time[1:-1])/(len(data_loader)-2)\n",
    "        else:\n",
    "            #Ignore first iteration as CUDA is often slower on the first pass, ignore the last iteration incase it had a different size\n",
    "            row[1] = sum(pf_time[1:-1])/(len(data_loader)-2)\n",
    "            row[2] = sum(state_error)/size\n",
    "            row[3] = sum(likelihood_error)/size\n",
    "    else:\n",
    "        if K is None:\n",
    "            kalman_row[0] = sum(kalman_time[1:-1])/(len(data_loader)-2)\n",
    "        else:\n",
    "\n",
    "            row[0] = sum(pf_time[1:-1])/(len(data_loader)-2)\n",
    "    \n",
    "    if not K is None:\n",
    "        results_df.loc[row_label] = row\n",
    "    results_df.loc['Kalman Filter'] = kalman_row\n",
    "    results_df.to_csv(result_path)\n",
    "print(results_df)\n",
    "        \n",
    "        \n",
    "    \n",
    "       "
   ],
   "id": "747165e39a2c6361",
   "outputs": [
    {
     "name": "stderr",
     "output_type": "stream",
     "text": [
      "100%|██████████| 20/20 [00:58<00:00,  2.93s/it]\n",
      "100%|██████████| 20/20 [01:10<00:00,  3.55s/it]\n",
      "100%|██████████| 20/20 [00:33<00:00,  1.66s/it]\n",
      "100%|██████████| 20/20 [01:37<00:00,  4.85s/it]"
     ]
    },
    {
     "name": "stdout",
     "output_type": "stream",
     "text": [
      "               Time CPU (s)   Time GPU (s)   epsilon x   epsilon y\n",
      "Kalman Filter      1.220324       1.712297    0.000000    0.000000\n",
      "PF K = 25          1.313197       1.200860    3.832700    0.139985\n",
      "PF K = 100         3.263150       1.437558    1.066567    0.070517\n",
      "PF K = 1000       21.502048       0.645984    0.114204    0.022389\n",
      "PF K = 10000     196.095725       3.918857    0.011712    0.007090\n"
     ]
    },
    {
     "name": "stderr",
     "output_type": "stream",
     "text": [
      "\n"
     ]
    }
   ],
   "execution_count": 14
  }
 ],
 "metadata": {
  "kernelspec": {
   "display_name": "Python 3",
   "language": "python",
   "name": "python3"
  },
  "language_info": {
   "codemirror_mode": {
    "name": "ipython",
    "version": 2
   },
   "file_extension": ".py",
   "mimetype": "text/x-python",
   "name": "python",
   "nbconvert_exporter": "python",
   "pygments_lexer": "ipython2",
   "version": "2.7.6"
  }
 },
 "nbformat": 4,
 "nbformat_minor": 5
}
