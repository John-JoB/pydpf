{
 "cells": [
  {
   "metadata": {},
   "cell_type": "markdown",
   "source": "# Unsupervised learning of multiple parameters",
   "id": "1542a7c6d5db3ce8"
  },
  {
   "metadata": {},
   "cell_type": "markdown",
   "source": [
    "Before running this notebook: ensure that the steps outlined in sv_setup_instructions.txt are complete\n",
    "\n"
   ],
   "id": "1b38b6630ec3286d"
  },
  {
   "cell_type": "code",
   "id": "initial_id",
   "metadata": {
    "collapsed": true
   },
   "source": [
    "import torch\n",
    "import pydpf\n",
    "import sv_model\n",
    "import pathlib\n",
    "from sv_training_loop import train\n",
    "import numpy as np\n",
    "import pandas as pd\n",
    "import os"
   ],
   "outputs": [],
   "execution_count": null
  },
  {
   "metadata": {},
   "cell_type": "markdown",
   "source": "## Experiment Settings",
   "id": "fac9900a7927c469"
  },
  {
   "metadata": {},
   "cell_type": "code",
   "source": [
    "batch_size_test = 128\n",
    "batch_size_train = 32\n",
    "true_alpha = 0.91\n",
    "true_beta = 0.5\n",
    "true_sigma = 1.\n",
    "device = torch.device(\"cuda:0\" if torch.cuda.is_available() else \"cpu\")   \n",
    "temp_data_path = pathlib.Path('.').parent.absolute().joinpath('data/temp.csv')\n",
    "experiment_cuda_rng = torch.Generator(device).manual_seed(0)\n",
    "experiment_cpu_rng = torch.Generator().manual_seed(0)\n",
    "experiments = ['DPF', 'Soft', 'Stop-Gradient', 'Marginal Stop-Gradient', 'Optimal Transport', 'Kernel']\n",
    "n_repeats = 10\n",
    "training_epochs = 20\n",
    "result_path = pathlib.Path('.').parent.absolute().joinpath('results/multiple_parameter_results.csv')\n",
    "if not result_path.exists():\n",
    "    print(\"Results file does not exist. Make sure you have run the set-up script.\")"
   ],
   "id": "9bf63c931b6c561c",
   "outputs": [],
   "execution_count": null
  },
  {
   "metadata": {},
   "cell_type": "code",
   "source": [
    "def get_SSM():\n",
    "    alpha = torch.nn.Parameter(torch.rand((1,1), device=device, generator=experiment_cuda_rng), requires_grad=True)\n",
    "    sigma = torch.nn.Parameter(torch.rand((1,1), device=device, generator=experiment_cuda_rng)*5, requires_grad=True)\n",
    "    beta = torch.nn.Parameter(torch.rand((1,), device=device, generator=experiment_cuda_rng)*2, requires_grad=True)\n",
    "    return sv_model.make_SSM(sigma, alpha, beta, device, experiment_cuda_rng), alpha, beta, sigma"
   ],
   "id": "b162a2bcba0f12bd",
   "outputs": [],
   "execution_count": null
  },
  {
   "metadata": {},
   "cell_type": "code",
   "source": [
    "def get_DPF(SSM, DPF_type):\n",
    "    if DPF_type == 'DPF':\n",
    "        return pydpf.DPF(SSM=SSM, resampling_generator=experiment_cuda_rng)\n",
    "    if DPF_type == 'Soft':\n",
    "        return pydpf.SoftDPF(SSM=SSM, resampling_generator=experiment_cuda_rng)\n",
    "    if DPF_type == 'Stop-Gradient':\n",
    "        return pydpf.StopGradientDPF(SSM=SSM, resampling_generator=experiment_cuda_rng)\n",
    "    if DPF_type == 'Marginal Stop-Gradient':\n",
    "        return pydpf.MarginalStopGradientDPF(SSM=SSM, resampling_generator=experiment_cuda_rng)\n",
    "    if DPF_type == 'Optimal Transport':\n",
    "        return pydpf.OptimalTransportDPF(SSM=SSM, regularisation=0.5, transport_gradient_clip=1.)\n",
    "    if DPF_type == 'Kernel':\n",
    "        kernel = pydpf.StandardGaussian(1, experiment_cuda_rng, False, True)\n",
    "        kernel_mixture = pydpf.KernelMixture(kernel, generator=experiment_cuda_rng)\n",
    "        return pydpf.KernelDPF(SSM=SSM, kernel=kernel_mixture)\n",
    "    raise ValueError('DPF_type should be one of the allowed options')"
   ],
   "id": "8ca753311dcf1186",
   "outputs": [],
   "execution_count": null
  },
  {
   "metadata": {},
   "cell_type": "code",
   "source": [
    "for experiment in experiments:\n",
    "    ELBOs = np.empty(n_repeats)\n",
    "    alphas = np.empty(n_repeats)\n",
    "    betas = np.empty(n_repeats)\n",
    "    sigmas = np.empty(n_repeats)\n",
    "    for n in range(n_repeats):\n",
    "        experiment_cuda_rng = torch.Generator(device).manual_seed(n*10)\n",
    "        generation_rng = torch.Generator(device).manual_seed(n*10)\n",
    "        experiment_cpu_rng = torch.Generator().manual_seed(n*10)\n",
    "        true_SSM = sv_model.make_SSM(torch.tensor([[true_sigma]], device=device), torch.tensor([[true_alpha]], device=device), torch.tensor([true_beta], device=device), device, generation_rng)\n",
    "        pydpf.simulate_and_save(temp_data_path, SSM=true_SSM, time_extent=1000, n_trajectories=500, batch_size=batch_size_test, device=device, bypass_ask=True)\n",
    "        SSM, alpha, beta, sigma = get_SSM()\n",
    "        dpf = get_DPF(SSM, experiment)\n",
    "        if experiment == 'Kernel':\n",
    "            opt = torch.optim.SGD([{'params':[alpha], 'lr':0.05}, {'params':[beta], 'lr':0.1}, {'params':[sigma], 'lr':0.25}, {'params':dpf.resampler.mixture.parameters(), 'lr':0.1}], lr=0.2, momentum=0.9, nesterov=True)\n",
    "        else:\n",
    "            opt = torch.optim.SGD([{'params':[alpha], 'lr':0.05}, {'params':[beta], 'lr':0.1}, {'params':[sigma], 'lr':0.25}], lr=0.2, momentum=0.9, nesterov=True)\n",
    "        opt_schedule = torch.optim.lr_scheduler.ExponentialLR(opt, 0.95)\n",
    "        dataset = pydpf.StateSpaceDataset(temp_data_path, state_prefix='state', device=device)\n",
    "        _, ELBO = train(dpf, opt, dataset, training_epochs, (100, 100, 100), (batch_size_train, batch_size_test, batch_size_train), (0.5, 0.25, 0.25), 1., experiment_cpu_rng, target='ELBO', time_extent=100, lr_scheduler=opt_schedule)\n",
    "        ELBOs[n] = ELBO\n",
    "        alphas[n] = alpha\n",
    "        betas[n] = beta\n",
    "        sigmas[n] = sigma\n",
    "        os.remove(temp_data_path)\n",
    "    results = pd.read_csv(result_path, index_col=0)\n",
    "    row = np.array([np.mean(ELBOs), np.mean(np.abs(alphas - 0.91)), np.mean(np.abs(betas - 0.5)), np.mean(np.abs(sigmas - 1.))])\n",
    "    results.loc[experiment] = row\n",
    "    results.to_csv(result_path)"
   ],
   "id": "7ecf40ae6833654",
   "outputs": [],
   "execution_count": null
  }
 ],
 "metadata": {
  "kernelspec": {
   "display_name": "Python 3",
   "language": "python",
   "name": "python3"
  },
  "language_info": {
   "codemirror_mode": {
    "name": "ipython",
    "version": 2
   },
   "file_extension": ".py",
   "mimetype": "text/x-python",
   "name": "python",
   "nbconvert_exporter": "python",
   "pygments_lexer": "ipython2",
   "version": "2.7.6"
  }
 },
 "nbformat": 4,
 "nbformat_minor": 5
}
